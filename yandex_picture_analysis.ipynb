{
 "cells": [
  {
   "cell_type": "code",
   "execution_count": 122,
   "metadata": {},
   "outputs": [],
   "source": [
    "import pandas as pd\n",
    "\n",
    "from pandasql import sqldf\n",
    "\n",
    "df = pd.read_csv('data.tsv', \n",
    "                   sep='\\t', \n",
    "                   header=None, \n",
    "                   names=['query', 'timestamp', 'device'])"
   ]
  },
  {
   "cell_type": "markdown",
   "metadata": {},
   "source": [
    "#### 1. Диапазон дат, предоставленный для анализа: \n",
    "Первый запрос:    31-08-2021 21:00:00 \\\n",
    "Последний запрос: 21-09-2021 20:59:59"
   ]
  },
  {
   "cell_type": "code",
   "execution_count": 123,
   "metadata": {},
   "outputs": [
    {
     "name": "stdout",
     "output_type": "stream",
     "text": [
      "Первый запрос:    31-08-2021 21:00:00\n",
      "Последний запрос: 21-09-2021 20:59:59\n"
     ]
    }
   ],
   "source": [
    "min_time_query = \"\"\"\n",
    "SELECT MIN(timestamp) as min_time\n",
    "FROM df\n",
    "\"\"\"\n",
    "\n",
    "max_time_query = \"\"\"\n",
    "SELECT MAX(timestamp) as max_time\n",
    "FROM df\n",
    "\"\"\"\n",
    "\n",
    "min_time_unix = sqldf(min_time_query, locals())['min_time'][0]\n",
    "max_time_unix = sqldf(max_time_query, locals())['max_time'][0]\n",
    "\n",
    "max_time = pd.to_datetime(max_time_unix, unit='s').strftime('%d-%m-%Y %H:%M:%S')\n",
    "min_time = pd.to_datetime(min_time_unix, unit='s').strftime('%d-%m-%Y %H:%M:%S')\n",
    "\n",
    "print(f\"Первый запрос:    {min_time}\")\n",
    "print(f\"Последний запрос: {max_time}\")"
   ]
  },
  {
   "cell_type": "markdown",
   "metadata": {},
   "source": [
    "#### 2. Количество запросов с текстом \"ютуб\" в каждой платформе\n",
    "desktop: 806 \\\n",
    "touch: 732"
   ]
  },
  {
   "cell_type": "code",
   "execution_count": 223,
   "metadata": {},
   "outputs": [
    {
     "name": "stdout",
     "output_type": "stream",
     "text": [
      "    device  query_cnt\n",
      "0  desktop        806\n",
      "1    touch        732\n"
     ]
    }
   ],
   "source": [
    "df['query_lower'] = df['query'].str.lower()\n",
    "\n",
    "youtube_cnt_query = \"\"\"\n",
    "SELECT \n",
    "    device, \n",
    "    COUNT(*) as query_cnt\n",
    "FROM df\n",
    "WHERE query_lower LIKE '%ютуб%'\n",
    "GROUP BY device\n",
    "\"\"\"\n",
    "youtube_cnt_table = sqldf(youtube_cnt_query, locals())\n",
    "print(youtube_cnt_table)\n"
   ]
  },
  {
   "cell_type": "markdown",
   "metadata": {},
   "source": [
    "#### 3. Топ10 самых частотных запросов в каждой платформе (desktop, touch)."
   ]
  },
  {
   "cell_type": "code",
   "execution_count": 153,
   "metadata": {},
   "outputs": [],
   "source": [
    "from tabulate import tabulate\n",
    "\n",
    "df['query_lower'] = df['query'].str.lower().str.replace(\"ё\", \"е\")\n",
    "\n",
    "top_10_touch_query = \"\"\"\n",
    "SELECT\n",
    "    query_lower,\n",
    "    COUNT(*) as cnt,\n",
    "    ROUND(COUNT(*) * 100.0 / (SELECT COUNT(*) FROM df WHERE device = 'touch'), 2) as freq_of_touch,\n",
    "    ROUND(COUNT(*) * 100.0 / (SELECT COUNT(*) FROM df), 2) as freq_of_all\n",
    "FROM df\n",
    "WHERE device = \"touch\"\n",
    "GROUP BY query_lower\n",
    "ORDER BY cnt DESC\n",
    "LIMIT 10\n",
    "\"\"\"\n",
    "top_10_touch = sqldf(top_10_touch_query, locals())\n",
    "\n",
    "total_row_touch = {\n",
    "    'query_lower': 'ИТОГО:',\n",
    "    'cnt': top_10_touch['cnt'].sum(),\n",
    "    'freq_of_touch': top_10_touch['freq_of_touch'].sum(),\n",
    "    'freq_of_all': top_10_touch['freq_of_all'].sum()\n",
    "}\n",
    "\n",
    "separator = pd.DataFrame({col: ['------'] for col in top_10_touch.columns})\n",
    " \n",
    "top_10_touch_with_total = pd.concat([\n",
    "    top_10_touch,\n",
    "    separator,\n",
    "    pd.DataFrame([total_row_touch])\n",
    "])"
   ]
  },
  {
   "cell_type": "code",
   "execution_count": 159,
   "metadata": {},
   "outputs": [],
   "source": [
    "top_10_desktop_query = \"\"\"\n",
    "SELECT \n",
    "    query_lower,\n",
    "    COUNT(*) as cnt,\n",
    "    ROUND(COUNT(*) * 100.0 / (SELECT COUNT(*) FROM df WHERE device = 'desktop'), 2) as freq_of_desktop,\n",
    "    ROUND(COUNT(*) * 100.0 / (SELECT COUNT(*) FROM df), 2) as freq_of_all\n",
    "FROM df\n",
    "WHERE device = \"desktop\"\n",
    "GROUP BY query_lower\n",
    "ORDER BY cnt DESC\n",
    "LIMIT 10\n",
    "\"\"\"\n",
    "top_10_desktop = sqldf(top_10_desktop_query, locals())\n",
    "\n",
    "total_row_desktop = {\n",
    "    'query_lower': 'ИТОГО:',\n",
    "    'cnt': top_10_desktop['cnt'].sum(),\n",
    "    'freq_of_desktop': round(top_10_desktop['freq_of_desktop'].sum(), 2),\n",
    "    'freq_of_all': round(top_10_desktop['freq_of_all'].sum(), 2)\n",
    "}\n",
    "\n",
    "separator = pd.DataFrame({col: ['------'] for col in top_10_desktop.columns})\n",
    " \n",
    "top_10_desktop_with_total = pd.concat([\n",
    "    top_10_desktop,\n",
    "    separator,\n",
    "    pd.DataFrame([total_row_desktop])\n",
    "])"
   ]
  },
  {
   "cell_type": "code",
   "execution_count": 160,
   "metadata": {},
   "outputs": [
    {
     "name": "stdout",
     "output_type": "stream",
     "text": [
      "touch Топ10 запросов:\n",
      "+----+-------------------------+----------+--------------+-------------+\n",
      "|    | Запрос                  | Кол-во   | % от touch   | % от всех   |\n",
      "|----+-------------------------+----------+--------------+-------------|\n",
      "| 1  | порно                   | 10076    | 1.27         | 0.84        |\n",
      "| 2  | секс                    | 8262     | 1.04         | 0.69        |\n",
      "| 3  | с днем рождения         | 7438     | 0.94         | 0.62        |\n",
      "| 4  | с днем рождения женщине | 5516     | 0.7          | 0.46        |\n",
      "| 5  | с днем рождения мужчине | 4339     | 0.55         | 0.36        |\n",
      "| 6  | хентай                  | 4212     | 0.53         | 0.35        |\n",
      "| 7  | xxx                     | 3249     | 0.41         | 0.27        |\n",
      "| 8  | xnxx                    | 2767     | 0.35         | 0.23        |\n",
      "| 9  | доброе утро             | 2342     | 0.3          | 0.19        |\n",
      "| 10 | таблица менделеева      | 2278     | 0.29         | 0.19        |\n",
      "| -- | ------                  | ------   | ------       | ------      |\n",
      "|    | ИТОГО:                  | 50479    | 6.38         | 4.2         |\n",
      "+----+-------------------------+----------+--------------+-------------+\n",
      "desktop Топ10 запросов:\n",
      "+----+---------------------------------+----------+----------------+-------------+\n",
      "|    | Запрос                          | Кол-во   | % от desktop   | % от всех   |\n",
      "|----+---------------------------------+----------+----------------+-------------|\n",
      "| 1  | календарь 2021                  | 2810     | 0.68           | 0.23        |\n",
      "| 2  | таблица менделеева              | 2659     | 0.65           | 0.22        |\n",
      "| 3  | картинки                        | 1720     | 0.42           | 0.14        |\n",
      "| 4  | порно                           | 1408     | 0.34           | 0.12        |\n",
      "| 5  | английский алфавит              | 1352     | 0.33           | 0.11        |\n",
      "| 6  | обои на рабочий стол            | 1143     | 0.28           | 0.09        |\n",
      "| 7  | одноклассники (социальная сеть) | 1116     | 0.27           | 0.09        |\n",
      "| 8  | секс                            | 947      | 0.23           | 0.08        |\n",
      "| 9  | алфавит                         | 923      | 0.22           | 0.08        |\n",
      "| 10 | таблица квадратов               | 883      | 0.21           | 0.07        |\n",
      "| -- | ------                          | ------   | ------         | ------      |\n",
      "|    | ИТОГО:                          | 14961    | 3.63           | 1.23        |\n",
      "+----+---------------------------------+----------+----------------+-------------+\n"
     ]
    }
   ],
   "source": [
    "\n",
    "print(f\"touch Топ10 запросов:\")\n",
    "print(tabulate(top_10_touch_with_total, \n",
    "               headers=['Запрос', 'Кол-во', '% от touch', '% от всех'], \n",
    "               tablefmt='psql', \n",
    "               showindex=list(range(1, len(top_10_touch_with_total)-1)) + [\"--\", \"\"]))\n",
    "\n",
    "print(f\"desktop Топ10 запросов:\")\n",
    "print(tabulate(top_10_desktop_with_total, \n",
    "               headers=['Запрос', 'Кол-во', '% от desktop', '% от всех'], \n",
    "               tablefmt='psql', \n",
    "               showindex=list(range(1, len(top_10_desktop_with_total)-1)) + [\"--\", \"\"]))"
   ]
  },
  {
   "cell_type": "markdown",
   "metadata": {},
   "source": [
    "Выводы: 1. топ10 запросов на телефон занимают 4.2% от количества всех запросов, на десктоп - 1.23%. Пользователи чаще используют сервис Яндекс Картинки с телефона. \n"
   ]
  },
  {
   "cell_type": "markdown",
   "metadata": {},
   "source": [
    "#### 4. Трафик запросов в течении дня \n",
    "\n",
    "Ссылка на дашборд с чартами распределения кол-ва запросов по часам в течение дня в datalens (данные были обработаны, проиллюстированы и прокомментированы \n",
    "там): https://datalens.yandex/p59qkl8yi3jmb "
   ]
  },
  {
   "cell_type": "markdown",
   "metadata": {},
   "source": [
    "#### 5. Тематики запросов\n",
    "Выделим основные категории запросов для мобилок и компьютеров: позравления, образование, картинки, календарь, утренние картинки, взрослый контент. Классифицируем запросы по категориям и найдем доли каждой категории относительно запросов на устройство."
   ]
  },
  {
   "cell_type": "code",
   "execution_count": 227,
   "metadata": {},
   "outputs": [],
   "source": [
    "import re\n",
    "\n",
    "categories = {\n",
    "    'greetings': [\n",
    "        r'с днем рождения',\n",
    "        r'поздравл',                         \n",
    "        r'др'                              \n",
    "    ],\n",
    "    'education': [\n",
    "        r'таблиц',                    \n",
    "        r'менделеев',                       \n",
    "        r'английский алфавит',          \n",
    "        r'алфавит',                        \n",
    "        r'квадрат',                          \n",
    "        r'научн'                            \n",
    "    ],\n",
    "    'pictures': [\n",
    "        r'картинк',                         \n",
    "        r'обои на рабочий стол'                      \n",
    "    ],\n",
    "    'calendar': [\n",
    "        r'календарь',                    \n",
    "    ],\n",
    "    'social': [\n",
    "        r'одноклассник',                 \n",
    "    ],\n",
    "    'morning': [\n",
    "        r'доброе утро'\n",
    "    ],\n",
    "    'adult': [\n",
    "        r'порно',\n",
    "        r'секс',\n",
    "        r'xxx',\n",
    "        r'xnxx',\n",
    "    ]\n",
    "}\n",
    "\n",
    "compiled_categories = {\n",
    "    category: [re.compile(pattern, re.IGNORECASE) for pattern in patterns]\n",
    "    for category, patterns in categories.items()\n",
    "}\n",
    "\n",
    "def categorize_query(query):\n",
    "    query = query.lower().strip()\n",
    "    for category, patterns in compiled_categories.items():\n",
    "        if any(pattern.search(query) for pattern in patterns):\n",
    "            return category\n",
    "    return 'other'\n",
    "\n",
    "df['category'] = df['query'].apply(categorize_query)"
   ]
  },
  {
   "cell_type": "code",
   "execution_count": 228,
   "metadata": {},
   "outputs": [],
   "source": [
    "total_touch = df[df['device'] == 'touch'].shape[0]\n",
    "total_desktop = df[df['device'] == 'desktop'].shape[0]\n",
    "\n",
    "platform_distribution = (\n",
    "    df.groupby(['category', 'device'])\n",
    "    .size()\n",
    "    .unstack()\n",
    ")\n",
    "\n",
    "platform_distribution = platform_distribution.drop('other', axis=0)\n",
    "#print(platform_distribution)"
   ]
  },
  {
   "cell_type": "code",
   "execution_count": 229,
   "metadata": {},
   "outputs": [
    {
     "name": "stdout",
     "output_type": "stream",
     "text": [
      "+-------------+-----------------------+---------------------+-----------------+\n",
      "| категория   |   доля (%) на desktop |   доля (%) на touch |   разница долей |\n",
      "|-------------+-----------------------+---------------------+-----------------|\n",
      "| adult       |                  6.34 |                1.49 |            4.85 |\n",
      "| greetings   |                  4.37 |                2.34 |            2.03 |\n",
      "| education   |                  1.65 |                3.52 |            1.87 |\n",
      "| calendar    |                  0.82 |                2.38 |            1.56 |\n",
      "| pictures    |                  3.72 |                3.02 |            0.7  |\n",
      "| morning     |                  0.64 |                0.07 |            0.57 |\n",
      "| social      |                  0.02 |                0.32 |            0.3  |\n",
      "+-------------+-----------------------+---------------------+-----------------+\n"
     ]
    }
   ],
   "source": [
    "\n",
    "platform_distribution['touch_part'] = round((platform_distribution['touch'] / total_touch * 100), 2)\n",
    "platform_distribution['desktop_part'] = round((platform_distribution['desktop'] / total_desktop * 100), 2)\n",
    "\n",
    "platform_distribution['difference'] = abs((platform_distribution['touch_part'] - platform_distribution['desktop_part']))\n",
    "\n",
    "contrast_topics = platform_distribution.sort_values('difference', ascending=False)[['touch_part', 'desktop_part', 'difference']]\n",
    "\n",
    "print(tabulate(contrast_topics, \n",
    "               headers=['категория', 'доля (%) на desktop', 'доля (%) на touch', 'разница долей'], \n",
    "               tablefmt='psql', \n",
    "               showindex=True))"
   ]
  },
  {
   "cell_type": "markdown",
   "metadata": {},
   "source": [
    "Вывод: взрослый контент, поздравления, картинки, картинки \"с добрым утром\" - это темы, которые более характерны для пользователей мобильных устройств. Образование, календарь, соц.сеть одноклассники - для пользователей компьютеров."
   ]
  }
 ],
 "metadata": {
  "kernelspec": {
   "display_name": ".venv",
   "language": "python",
   "name": "python3"
  },
  "language_info": {
   "codemirror_mode": {
    "name": "ipython",
    "version": 3
   },
   "file_extension": ".py",
   "mimetype": "text/x-python",
   "name": "python",
   "nbconvert_exporter": "python",
   "pygments_lexer": "ipython3",
   "version": "3.13.3"
  }
 },
 "nbformat": 4,
 "nbformat_minor": 2
}
